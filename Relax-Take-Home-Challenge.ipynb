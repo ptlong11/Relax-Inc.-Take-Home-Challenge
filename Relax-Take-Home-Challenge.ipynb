{
 "cells": [
  {
   "cell_type": "code",
   "execution_count": 1,
   "id": "73079e9b",
   "metadata": {},
   "outputs": [],
   "source": [
    "import numpy as np\n",
    "import pandas as pd\n",
    "import matplotlib.pyplot as plt\n",
    "import seaborn as sns\n",
    "from sklearn.preprocessing import StandardScaler\n",
    "from sklearn.ensemble import RandomForestClassifier\n",
    "from sklearn.metrics import roc_auc_score\n",
    "from sklearn.model_selection import train_test_split\n",
    "%matplotlib inline"
   ]
  },
  {
   "cell_type": "code",
   "execution_count": 2,
   "id": "d371d332",
   "metadata": {},
   "outputs": [],
   "source": [
    "# Read the two csv files\n",
    "\n",
    "\n",
    "user_engagements = pd.read_csv(r\"C:\\Users\\ptlon\\OneDrive\\Desktop\\1481069814_relax_challenge\\relax_challenge\\takehome_user_engagement.csv\")\n",
    "\n",
    "# Import the user data\n",
    "users = pd.read_csv(r\"C:\\Users\\ptlon\\OneDrive\\Desktop\\1481069814_relax_challenge\\relax_challenge\\takehome_users.csv\", encoding='latin-1')"
   ]
  },
  {
   "cell_type": "code",
   "execution_count": 3,
   "id": "7daa86df",
   "metadata": {},
   "outputs": [
    {
     "data": {
      "text/html": [
       "<div>\n",
       "<style scoped>\n",
       "    .dataframe tbody tr th:only-of-type {\n",
       "        vertical-align: middle;\n",
       "    }\n",
       "\n",
       "    .dataframe tbody tr th {\n",
       "        vertical-align: top;\n",
       "    }\n",
       "\n",
       "    .dataframe thead th {\n",
       "        text-align: right;\n",
       "    }\n",
       "</style>\n",
       "<table border=\"1\" class=\"dataframe\">\n",
       "  <thead>\n",
       "    <tr style=\"text-align: right;\">\n",
       "      <th></th>\n",
       "      <th>object_id</th>\n",
       "      <th>creation_time</th>\n",
       "      <th>name</th>\n",
       "      <th>email</th>\n",
       "      <th>creation_source</th>\n",
       "      <th>last_session_creation_time</th>\n",
       "      <th>opted_in_to_mailing_list</th>\n",
       "      <th>enabled_for_marketing_drip</th>\n",
       "      <th>org_id</th>\n",
       "      <th>invited_by_user_id</th>\n",
       "    </tr>\n",
       "  </thead>\n",
       "  <tbody>\n",
       "    <tr>\n",
       "      <th>0</th>\n",
       "      <td>1</td>\n",
       "      <td>2014-04-22 03:53:30</td>\n",
       "      <td>Clausen August</td>\n",
       "      <td>AugustCClausen@yahoo.com</td>\n",
       "      <td>GUEST_INVITE</td>\n",
       "      <td>1.398139e+09</td>\n",
       "      <td>1</td>\n",
       "      <td>0</td>\n",
       "      <td>11</td>\n",
       "      <td>10803.0</td>\n",
       "    </tr>\n",
       "    <tr>\n",
       "      <th>1</th>\n",
       "      <td>2</td>\n",
       "      <td>2013-11-15 03:45:04</td>\n",
       "      <td>Poole Matthew</td>\n",
       "      <td>MatthewPoole@gustr.com</td>\n",
       "      <td>ORG_INVITE</td>\n",
       "      <td>1.396238e+09</td>\n",
       "      <td>0</td>\n",
       "      <td>0</td>\n",
       "      <td>1</td>\n",
       "      <td>316.0</td>\n",
       "    </tr>\n",
       "    <tr>\n",
       "      <th>2</th>\n",
       "      <td>3</td>\n",
       "      <td>2013-03-19 23:14:52</td>\n",
       "      <td>Bottrill Mitchell</td>\n",
       "      <td>MitchellBottrill@gustr.com</td>\n",
       "      <td>ORG_INVITE</td>\n",
       "      <td>1.363735e+09</td>\n",
       "      <td>0</td>\n",
       "      <td>0</td>\n",
       "      <td>94</td>\n",
       "      <td>1525.0</td>\n",
       "    </tr>\n",
       "    <tr>\n",
       "      <th>3</th>\n",
       "      <td>4</td>\n",
       "      <td>2013-05-21 08:09:28</td>\n",
       "      <td>Clausen Nicklas</td>\n",
       "      <td>NicklasSClausen@yahoo.com</td>\n",
       "      <td>GUEST_INVITE</td>\n",
       "      <td>1.369210e+09</td>\n",
       "      <td>0</td>\n",
       "      <td>0</td>\n",
       "      <td>1</td>\n",
       "      <td>5151.0</td>\n",
       "    </tr>\n",
       "    <tr>\n",
       "      <th>4</th>\n",
       "      <td>5</td>\n",
       "      <td>2013-01-17 10:14:20</td>\n",
       "      <td>Raw Grace</td>\n",
       "      <td>GraceRaw@yahoo.com</td>\n",
       "      <td>GUEST_INVITE</td>\n",
       "      <td>1.358850e+09</td>\n",
       "      <td>0</td>\n",
       "      <td>0</td>\n",
       "      <td>193</td>\n",
       "      <td>5240.0</td>\n",
       "    </tr>\n",
       "  </tbody>\n",
       "</table>\n",
       "</div>"
      ],
      "text/plain": [
       "   object_id        creation_time               name  \\\n",
       "0          1  2014-04-22 03:53:30     Clausen August   \n",
       "1          2  2013-11-15 03:45:04      Poole Matthew   \n",
       "2          3  2013-03-19 23:14:52  Bottrill Mitchell   \n",
       "3          4  2013-05-21 08:09:28    Clausen Nicklas   \n",
       "4          5  2013-01-17 10:14:20          Raw Grace   \n",
       "\n",
       "                        email creation_source  last_session_creation_time  \\\n",
       "0    AugustCClausen@yahoo.com    GUEST_INVITE                1.398139e+09   \n",
       "1      MatthewPoole@gustr.com      ORG_INVITE                1.396238e+09   \n",
       "2  MitchellBottrill@gustr.com      ORG_INVITE                1.363735e+09   \n",
       "3   NicklasSClausen@yahoo.com    GUEST_INVITE                1.369210e+09   \n",
       "4          GraceRaw@yahoo.com    GUEST_INVITE                1.358850e+09   \n",
       "\n",
       "   opted_in_to_mailing_list  enabled_for_marketing_drip  org_id  \\\n",
       "0                         1                           0      11   \n",
       "1                         0                           0       1   \n",
       "2                         0                           0      94   \n",
       "3                         0                           0       1   \n",
       "4                         0                           0     193   \n",
       "\n",
       "   invited_by_user_id  \n",
       "0             10803.0  \n",
       "1               316.0  \n",
       "2              1525.0  \n",
       "3              5151.0  \n",
       "4              5240.0  "
      ]
     },
     "execution_count": 3,
     "metadata": {},
     "output_type": "execute_result"
    }
   ],
   "source": [
    "users.head()"
   ]
  },
  {
   "cell_type": "code",
   "execution_count": 4,
   "id": "452baf89",
   "metadata": {},
   "outputs": [
    {
     "data": {
      "text/html": [
       "<div>\n",
       "<style scoped>\n",
       "    .dataframe tbody tr th:only-of-type {\n",
       "        vertical-align: middle;\n",
       "    }\n",
       "\n",
       "    .dataframe tbody tr th {\n",
       "        vertical-align: top;\n",
       "    }\n",
       "\n",
       "    .dataframe thead th {\n",
       "        text-align: right;\n",
       "    }\n",
       "</style>\n",
       "<table border=\"1\" class=\"dataframe\">\n",
       "  <thead>\n",
       "    <tr style=\"text-align: right;\">\n",
       "      <th></th>\n",
       "      <th>time_stamp</th>\n",
       "      <th>user_id</th>\n",
       "      <th>visited</th>\n",
       "    </tr>\n",
       "  </thead>\n",
       "  <tbody>\n",
       "    <tr>\n",
       "      <th>0</th>\n",
       "      <td>2014-04-22 03:53:30</td>\n",
       "      <td>1</td>\n",
       "      <td>1</td>\n",
       "    </tr>\n",
       "    <tr>\n",
       "      <th>1</th>\n",
       "      <td>2013-11-15 03:45:04</td>\n",
       "      <td>2</td>\n",
       "      <td>1</td>\n",
       "    </tr>\n",
       "    <tr>\n",
       "      <th>2</th>\n",
       "      <td>2013-11-29 03:45:04</td>\n",
       "      <td>2</td>\n",
       "      <td>1</td>\n",
       "    </tr>\n",
       "    <tr>\n",
       "      <th>3</th>\n",
       "      <td>2013-12-09 03:45:04</td>\n",
       "      <td>2</td>\n",
       "      <td>1</td>\n",
       "    </tr>\n",
       "    <tr>\n",
       "      <th>4</th>\n",
       "      <td>2013-12-25 03:45:04</td>\n",
       "      <td>2</td>\n",
       "      <td>1</td>\n",
       "    </tr>\n",
       "  </tbody>\n",
       "</table>\n",
       "</div>"
      ],
      "text/plain": [
       "            time_stamp  user_id  visited\n",
       "0  2014-04-22 03:53:30        1        1\n",
       "1  2013-11-15 03:45:04        2        1\n",
       "2  2013-11-29 03:45:04        2        1\n",
       "3  2013-12-09 03:45:04        2        1\n",
       "4  2013-12-25 03:45:04        2        1"
      ]
     },
     "execution_count": 4,
     "metadata": {},
     "output_type": "execute_result"
    }
   ],
   "source": [
    "user_engagements.head()"
   ]
  },
  {
   "cell_type": "markdown",
   "id": "e58af1c2",
   "metadata": {},
   "source": [
    "Defining an \"adopted user\" as a user who has logged into the product on three separate days in at least one seven-day period, identify which factors predict future user adoption.\n",
    "\n",
    "We suggest spending 1-2 hours on this, but you're welcome to spend more or less. Please send us a brief writeup of your findings (the more concise, the better no more than one page), along with any summary tables, graphs, code, or queries that can help us understand your approach. Please note any factors you considered or investigation you did, even if they did not pan out. Feel free to identify any further research or data you think would be valuable.\n",
    "\n",
    "To start this problem, I'll start by creating the target column adopted_user. The adopted_user will be any user that has logged into the product on three separate days within a 7 day period.\n",
    "\n",
    "To resample the data, I need to first resample to daily and add a column for each day a login occured. I have to add this column because it is possible that a user logs in more than once per day. From there, I would resample to weekly and add up the total daily logins.\n",
    "\n",
    "However, before I do all of that, I need to convert the time_stamp column to a datetime object for resampling. Additionally, I groupby the user IDs to ensure that the resampling doesn't affect it.\n",
    "\n",
    "The purpose of the user engagements dataframe is to define a column of user ids that are adopted users. The rest of the time_stamp information can be scrapped."
   ]
  },
  {
   "cell_type": "code",
   "execution_count": 5,
   "id": "16d552d7",
   "metadata": {},
   "outputs": [
    {
     "data": {
      "text/plain": [
       "0    2014-04-22 03:53:30\n",
       "1    2013-11-15 03:45:04\n",
       "2    2013-11-29 03:45:04\n",
       "3    2013-12-09 03:45:04\n",
       "4    2013-12-25 03:45:04\n",
       "Name: time_stamp, dtype: object"
      ]
     },
     "execution_count": 5,
     "metadata": {},
     "output_type": "execute_result"
    }
   ],
   "source": [
    "user_engagements['time_stamp'].head()"
   ]
  },
  {
   "cell_type": "code",
   "execution_count": 6,
   "id": "e295c1ff",
   "metadata": {},
   "outputs": [],
   "source": [
    "user_engagements['time_stamp'] = pd.to_datetime(user_engagements['time_stamp'])"
   ]
  },
  {
   "cell_type": "code",
   "execution_count": 7,
   "id": "f7f96913",
   "metadata": {},
   "outputs": [],
   "source": [
    "daily_users = user_engagements.groupby('user_id').resample('1D', on='time_stamp').sum().drop('user_id', axis=1)"
   ]
  },
  {
   "cell_type": "code",
   "execution_count": 8,
   "id": "2ec7644b",
   "metadata": {},
   "outputs": [],
   "source": [
    "daily_users.reset_index(inplace=True)"
   ]
  },
  {
   "cell_type": "code",
   "execution_count": 9,
   "id": "5845c07b",
   "metadata": {},
   "outputs": [],
   "source": [
    "daily_users = daily_users[daily_users['visited'] != 0]\n",
    "daily_users['daily_visits'] = 1"
   ]
  },
  {
   "cell_type": "code",
   "execution_count": 10,
   "id": "9d093ac4",
   "metadata": {},
   "outputs": [],
   "source": [
    "weekly_users = daily_users.groupby('user_id').resample('1W', on='time_stamp').sum().drop('user_id', axis=1)"
   ]
  },
  {
   "cell_type": "code",
   "execution_count": 11,
   "id": "55401138",
   "metadata": {},
   "outputs": [],
   "source": [
    "weekly_users = weekly_users[weekly_users['visited'] != 0]"
   ]
  },
  {
   "cell_type": "code",
   "execution_count": 12,
   "id": "4ce52d35",
   "metadata": {},
   "outputs": [],
   "source": [
    "weekly_users['adopted_user'] = weekly_users['daily_visits'].apply(lambda x: 1 if x >= 3 else 0)"
   ]
  },
  {
   "cell_type": "code",
   "execution_count": 13,
   "id": "745051bf",
   "metadata": {},
   "outputs": [
    {
     "data": {
      "text/plain": [
       "True"
      ]
     },
     "execution_count": 13,
     "metadata": {},
     "output_type": "execute_result"
    }
   ],
   "source": [
    "weekly_users['visited'].equals(weekly_users['daily_visits'])"
   ]
  },
  {
   "cell_type": "code",
   "execution_count": 14,
   "id": "0f46814a",
   "metadata": {},
   "outputs": [
    {
     "data": {
      "text/html": [
       "<div>\n",
       "<style scoped>\n",
       "    .dataframe tbody tr th:only-of-type {\n",
       "        vertical-align: middle;\n",
       "    }\n",
       "\n",
       "    .dataframe tbody tr th {\n",
       "        vertical-align: top;\n",
       "    }\n",
       "\n",
       "    .dataframe thead th {\n",
       "        text-align: right;\n",
       "    }\n",
       "</style>\n",
       "<table border=\"1\" class=\"dataframe\">\n",
       "  <thead>\n",
       "    <tr style=\"text-align: right;\">\n",
       "      <th></th>\n",
       "      <th></th>\n",
       "      <th>visited</th>\n",
       "      <th>daily_visits</th>\n",
       "      <th>adopted_user</th>\n",
       "    </tr>\n",
       "    <tr>\n",
       "      <th>user_id</th>\n",
       "      <th>time_stamp</th>\n",
       "      <th></th>\n",
       "      <th></th>\n",
       "      <th></th>\n",
       "    </tr>\n",
       "  </thead>\n",
       "  <tbody>\n",
       "    <tr>\n",
       "      <th>1</th>\n",
       "      <th>2014-04-27</th>\n",
       "      <td>1</td>\n",
       "      <td>1</td>\n",
       "      <td>0</td>\n",
       "    </tr>\n",
       "    <tr>\n",
       "      <th rowspan=\"4\" valign=\"top\">2</th>\n",
       "      <th>2013-11-17</th>\n",
       "      <td>1</td>\n",
       "      <td>1</td>\n",
       "      <td>0</td>\n",
       "    </tr>\n",
       "    <tr>\n",
       "      <th>2013-12-01</th>\n",
       "      <td>1</td>\n",
       "      <td>1</td>\n",
       "      <td>0</td>\n",
       "    </tr>\n",
       "    <tr>\n",
       "      <th>2013-12-15</th>\n",
       "      <td>1</td>\n",
       "      <td>1</td>\n",
       "      <td>0</td>\n",
       "    </tr>\n",
       "    <tr>\n",
       "      <th>2013-12-29</th>\n",
       "      <td>1</td>\n",
       "      <td>1</td>\n",
       "      <td>0</td>\n",
       "    </tr>\n",
       "  </tbody>\n",
       "</table>\n",
       "</div>"
      ],
      "text/plain": [
       "                    visited  daily_visits  adopted_user\n",
       "user_id time_stamp                                     \n",
       "1       2014-04-27        1             1             0\n",
       "2       2013-11-17        1             1             0\n",
       "        2013-12-01        1             1             0\n",
       "        2013-12-15        1             1             0\n",
       "        2013-12-29        1             1             0"
      ]
     },
     "execution_count": 14,
     "metadata": {},
     "output_type": "execute_result"
    }
   ],
   "source": [
    "weekly_users.head()"
   ]
  },
  {
   "cell_type": "markdown",
   "id": "7df88f02",
   "metadata": {},
   "source": [
    "Group by the user ids to perpare it for merging. I will take the sum of the remaining columns and change the adopted_user column back to a binary variable.\n",
    "\n"
   ]
  },
  {
   "cell_type": "code",
   "execution_count": 15,
   "id": "c8cd48a2",
   "metadata": {},
   "outputs": [],
   "source": [
    "weekly_users.reset_index(inplace=True)"
   ]
  },
  {
   "cell_type": "code",
   "execution_count": 16,
   "id": "b31f8e3c",
   "metadata": {},
   "outputs": [],
   "source": [
    "grouped_users = weekly_users.groupby('user_id').agg({'daily_visits': 'sum', 'adopted_user': 'sum'}).reset_index()\n"
   ]
  },
  {
   "cell_type": "code",
   "execution_count": 17,
   "id": "bd6c3a80",
   "metadata": {},
   "outputs": [],
   "source": [
    "grouped_users['adopted_user'] = grouped_users['adopted_user'].apply(lambda x: 1 if x > 0 else 0)\n"
   ]
  },
  {
   "cell_type": "code",
   "execution_count": 18,
   "id": "777bf1b6",
   "metadata": {},
   "outputs": [
    {
     "data": {
      "text/html": [
       "<div>\n",
       "<style scoped>\n",
       "    .dataframe tbody tr th:only-of-type {\n",
       "        vertical-align: middle;\n",
       "    }\n",
       "\n",
       "    .dataframe tbody tr th {\n",
       "        vertical-align: top;\n",
       "    }\n",
       "\n",
       "    .dataframe thead th {\n",
       "        text-align: right;\n",
       "    }\n",
       "</style>\n",
       "<table border=\"1\" class=\"dataframe\">\n",
       "  <thead>\n",
       "    <tr style=\"text-align: right;\">\n",
       "      <th></th>\n",
       "      <th>user_id</th>\n",
       "      <th>daily_visits</th>\n",
       "      <th>adopted_user</th>\n",
       "    </tr>\n",
       "  </thead>\n",
       "  <tbody>\n",
       "    <tr>\n",
       "      <th>0</th>\n",
       "      <td>1</td>\n",
       "      <td>1</td>\n",
       "      <td>0</td>\n",
       "    </tr>\n",
       "    <tr>\n",
       "      <th>1</th>\n",
       "      <td>2</td>\n",
       "      <td>14</td>\n",
       "      <td>1</td>\n",
       "    </tr>\n",
       "    <tr>\n",
       "      <th>2</th>\n",
       "      <td>3</td>\n",
       "      <td>1</td>\n",
       "      <td>0</td>\n",
       "    </tr>\n",
       "    <tr>\n",
       "      <th>3</th>\n",
       "      <td>4</td>\n",
       "      <td>1</td>\n",
       "      <td>0</td>\n",
       "    </tr>\n",
       "    <tr>\n",
       "      <th>4</th>\n",
       "      <td>5</td>\n",
       "      <td>1</td>\n",
       "      <td>0</td>\n",
       "    </tr>\n",
       "  </tbody>\n",
       "</table>\n",
       "</div>"
      ],
      "text/plain": [
       "   user_id  daily_visits  adopted_user\n",
       "0        1             1             0\n",
       "1        2            14             1\n",
       "2        3             1             0\n",
       "3        4             1             0\n",
       "4        5             1             0"
      ]
     },
     "execution_count": 18,
     "metadata": {},
     "output_type": "execute_result"
    }
   ],
   "source": [
    "grouped_users.head()"
   ]
  },
  {
   "cell_type": "code",
   "execution_count": 19,
   "id": "8a794af9",
   "metadata": {},
   "outputs": [
    {
     "data": {
      "text/html": [
       "<div>\n",
       "<style scoped>\n",
       "    .dataframe tbody tr th:only-of-type {\n",
       "        vertical-align: middle;\n",
       "    }\n",
       "\n",
       "    .dataframe tbody tr th {\n",
       "        vertical-align: top;\n",
       "    }\n",
       "\n",
       "    .dataframe thead th {\n",
       "        text-align: right;\n",
       "    }\n",
       "</style>\n",
       "<table border=\"1\" class=\"dataframe\">\n",
       "  <thead>\n",
       "    <tr style=\"text-align: right;\">\n",
       "      <th></th>\n",
       "      <th>object_id</th>\n",
       "      <th>creation_time</th>\n",
       "      <th>name</th>\n",
       "      <th>email</th>\n",
       "      <th>creation_source</th>\n",
       "      <th>last_session_creation_time</th>\n",
       "      <th>opted_in_to_mailing_list</th>\n",
       "      <th>enabled_for_marketing_drip</th>\n",
       "      <th>org_id</th>\n",
       "      <th>invited_by_user_id</th>\n",
       "    </tr>\n",
       "  </thead>\n",
       "  <tbody>\n",
       "    <tr>\n",
       "      <th>0</th>\n",
       "      <td>1</td>\n",
       "      <td>2014-04-22 03:53:30</td>\n",
       "      <td>Clausen August</td>\n",
       "      <td>AugustCClausen@yahoo.com</td>\n",
       "      <td>GUEST_INVITE</td>\n",
       "      <td>1.398139e+09</td>\n",
       "      <td>1</td>\n",
       "      <td>0</td>\n",
       "      <td>11</td>\n",
       "      <td>10803.0</td>\n",
       "    </tr>\n",
       "    <tr>\n",
       "      <th>1</th>\n",
       "      <td>2</td>\n",
       "      <td>2013-11-15 03:45:04</td>\n",
       "      <td>Poole Matthew</td>\n",
       "      <td>MatthewPoole@gustr.com</td>\n",
       "      <td>ORG_INVITE</td>\n",
       "      <td>1.396238e+09</td>\n",
       "      <td>0</td>\n",
       "      <td>0</td>\n",
       "      <td>1</td>\n",
       "      <td>316.0</td>\n",
       "    </tr>\n",
       "    <tr>\n",
       "      <th>2</th>\n",
       "      <td>3</td>\n",
       "      <td>2013-03-19 23:14:52</td>\n",
       "      <td>Bottrill Mitchell</td>\n",
       "      <td>MitchellBottrill@gustr.com</td>\n",
       "      <td>ORG_INVITE</td>\n",
       "      <td>1.363735e+09</td>\n",
       "      <td>0</td>\n",
       "      <td>0</td>\n",
       "      <td>94</td>\n",
       "      <td>1525.0</td>\n",
       "    </tr>\n",
       "    <tr>\n",
       "      <th>3</th>\n",
       "      <td>4</td>\n",
       "      <td>2013-05-21 08:09:28</td>\n",
       "      <td>Clausen Nicklas</td>\n",
       "      <td>NicklasSClausen@yahoo.com</td>\n",
       "      <td>GUEST_INVITE</td>\n",
       "      <td>1.369210e+09</td>\n",
       "      <td>0</td>\n",
       "      <td>0</td>\n",
       "      <td>1</td>\n",
       "      <td>5151.0</td>\n",
       "    </tr>\n",
       "    <tr>\n",
       "      <th>4</th>\n",
       "      <td>5</td>\n",
       "      <td>2013-01-17 10:14:20</td>\n",
       "      <td>Raw Grace</td>\n",
       "      <td>GraceRaw@yahoo.com</td>\n",
       "      <td>GUEST_INVITE</td>\n",
       "      <td>1.358850e+09</td>\n",
       "      <td>0</td>\n",
       "      <td>0</td>\n",
       "      <td>193</td>\n",
       "      <td>5240.0</td>\n",
       "    </tr>\n",
       "  </tbody>\n",
       "</table>\n",
       "</div>"
      ],
      "text/plain": [
       "   object_id        creation_time               name  \\\n",
       "0          1  2014-04-22 03:53:30     Clausen August   \n",
       "1          2  2013-11-15 03:45:04      Poole Matthew   \n",
       "2          3  2013-03-19 23:14:52  Bottrill Mitchell   \n",
       "3          4  2013-05-21 08:09:28    Clausen Nicklas   \n",
       "4          5  2013-01-17 10:14:20          Raw Grace   \n",
       "\n",
       "                        email creation_source  last_session_creation_time  \\\n",
       "0    AugustCClausen@yahoo.com    GUEST_INVITE                1.398139e+09   \n",
       "1      MatthewPoole@gustr.com      ORG_INVITE                1.396238e+09   \n",
       "2  MitchellBottrill@gustr.com      ORG_INVITE                1.363735e+09   \n",
       "3   NicklasSClausen@yahoo.com    GUEST_INVITE                1.369210e+09   \n",
       "4          GraceRaw@yahoo.com    GUEST_INVITE                1.358850e+09   \n",
       "\n",
       "   opted_in_to_mailing_list  enabled_for_marketing_drip  org_id  \\\n",
       "0                         1                           0      11   \n",
       "1                         0                           0       1   \n",
       "2                         0                           0      94   \n",
       "3                         0                           0       1   \n",
       "4                         0                           0     193   \n",
       "\n",
       "   invited_by_user_id  \n",
       "0             10803.0  \n",
       "1               316.0  \n",
       "2              1525.0  \n",
       "3              5151.0  \n",
       "4              5240.0  "
      ]
     },
     "execution_count": 19,
     "metadata": {},
     "output_type": "execute_result"
    }
   ],
   "source": [
    "users.head()"
   ]
  },
  {
   "cell_type": "code",
   "execution_count": 20,
   "id": "a7a64538",
   "metadata": {},
   "outputs": [],
   "source": [
    "assert grouped_users['user_id'].nunique() == user_engagements['user_id'].nunique()\n"
   ]
  },
  {
   "cell_type": "code",
   "execution_count": 21,
   "id": "84255f99",
   "metadata": {},
   "outputs": [
    {
     "name": "stdout",
     "output_type": "stream",
     "text": [
      "12000\n",
      "8823\n"
     ]
    }
   ],
   "source": [
    "print (users['object_id'].nunique())\n",
    "print (grouped_users['user_id'].nunique())"
   ]
  },
  {
   "cell_type": "markdown",
   "id": "158c543b",
   "metadata": {},
   "source": [
    "Since the users dataset has more unique user ids than the user engagement datasets, I will perform a left merge to retain all the rows in the main dataset. From there, I will fill in the null values from the merge with 0's to represent that the user has no login activity.\n",
    "\n",
    "Before I perform the merge, I will convert the last_session_creation_time from a unix timestamp to a human readable format. I will also conver the creation_time column to a datetime object."
   ]
  },
  {
   "cell_type": "code",
   "execution_count": 22,
   "id": "91155a09",
   "metadata": {},
   "outputs": [],
   "source": [
    "users['last_session_creation_time'] = pd.to_datetime(users['last_session_creation_time'], unit='s')\n"
   ]
  },
  {
   "cell_type": "code",
   "execution_count": 23,
   "id": "895ba67e",
   "metadata": {},
   "outputs": [],
   "source": [
    "users['creation_time'] = pd.to_datetime(users['creation_time'])\n"
   ]
  },
  {
   "cell_type": "code",
   "execution_count": 24,
   "id": "4ca6c27e",
   "metadata": {},
   "outputs": [],
   "source": [
    "merged_users = users.merge(grouped_users, how='left', left_on='object_id', right_on='user_id')\n"
   ]
  },
  {
   "cell_type": "code",
   "execution_count": 25,
   "id": "24148f69",
   "metadata": {},
   "outputs": [],
   "source": [
    "merged_users.drop('user_id', axis=1, inplace=True)\n"
   ]
  },
  {
   "cell_type": "code",
   "execution_count": 26,
   "id": "a87214d6",
   "metadata": {},
   "outputs": [
    {
     "name": "stdout",
     "output_type": "stream",
     "text": [
      "<class 'pandas.core.frame.DataFrame'>\n",
      "Int64Index: 12000 entries, 0 to 11999\n",
      "Data columns (total 12 columns):\n",
      " #   Column                      Non-Null Count  Dtype         \n",
      "---  ------                      --------------  -----         \n",
      " 0   object_id                   12000 non-null  int64         \n",
      " 1   creation_time               12000 non-null  datetime64[ns]\n",
      " 2   name                        12000 non-null  object        \n",
      " 3   email                       12000 non-null  object        \n",
      " 4   creation_source             12000 non-null  object        \n",
      " 5   last_session_creation_time  8823 non-null   datetime64[ns]\n",
      " 6   opted_in_to_mailing_list    12000 non-null  int64         \n",
      " 7   enabled_for_marketing_drip  12000 non-null  int64         \n",
      " 8   org_id                      12000 non-null  int64         \n",
      " 9   invited_by_user_id          6417 non-null   float64       \n",
      " 10  daily_visits                8823 non-null   float64       \n",
      " 11  adopted_user                8823 non-null   float64       \n",
      "dtypes: datetime64[ns](2), float64(3), int64(4), object(3)\n",
      "memory usage: 1.2+ MB\n"
     ]
    }
   ],
   "source": [
    "merged_users.info()\n"
   ]
  },
  {
   "cell_type": "markdown",
   "id": "fa3911ad",
   "metadata": {},
   "source": [
    "It appears that there are last_session_creation_time and invited_by_user_id columns. These are not from the user engagements dataframe so it would not appropriate to fill the nul lvalues here similarly. Let's explore these null values first."
   ]
  },
  {
   "cell_type": "code",
   "execution_count": 27,
   "id": "44158733",
   "metadata": {},
   "outputs": [
    {
     "data": {
      "text/html": [
       "<div>\n",
       "<style scoped>\n",
       "    .dataframe tbody tr th:only-of-type {\n",
       "        vertical-align: middle;\n",
       "    }\n",
       "\n",
       "    .dataframe tbody tr th {\n",
       "        vertical-align: top;\n",
       "    }\n",
       "\n",
       "    .dataframe thead th {\n",
       "        text-align: right;\n",
       "    }\n",
       "</style>\n",
       "<table border=\"1\" class=\"dataframe\">\n",
       "  <thead>\n",
       "    <tr style=\"text-align: right;\">\n",
       "      <th></th>\n",
       "      <th>object_id</th>\n",
       "      <th>creation_time</th>\n",
       "      <th>name</th>\n",
       "      <th>email</th>\n",
       "      <th>creation_source</th>\n",
       "      <th>last_session_creation_time</th>\n",
       "      <th>opted_in_to_mailing_list</th>\n",
       "      <th>enabled_for_marketing_drip</th>\n",
       "      <th>org_id</th>\n",
       "      <th>invited_by_user_id</th>\n",
       "      <th>daily_visits</th>\n",
       "      <th>adopted_user</th>\n",
       "    </tr>\n",
       "  </thead>\n",
       "  <tbody>\n",
       "    <tr>\n",
       "      <th>7</th>\n",
       "      <td>8</td>\n",
       "      <td>2013-07-31 05:34:02</td>\n",
       "      <td>Hamilton Danielle</td>\n",
       "      <td>DanielleHamilton@yahoo.com</td>\n",
       "      <td>PERSONAL_PROJECTS</td>\n",
       "      <td>NaT</td>\n",
       "      <td>1</td>\n",
       "      <td>1</td>\n",
       "      <td>74</td>\n",
       "      <td>NaN</td>\n",
       "      <td>NaN</td>\n",
       "      <td>NaN</td>\n",
       "    </tr>\n",
       "    <tr>\n",
       "      <th>8</th>\n",
       "      <td>9</td>\n",
       "      <td>2013-11-05 04:04:24</td>\n",
       "      <td>Amsel Paul</td>\n",
       "      <td>PaulAmsel@hotmail.com</td>\n",
       "      <td>PERSONAL_PROJECTS</td>\n",
       "      <td>NaT</td>\n",
       "      <td>0</td>\n",
       "      <td>0</td>\n",
       "      <td>302</td>\n",
       "      <td>NaN</td>\n",
       "      <td>NaN</td>\n",
       "      <td>NaN</td>\n",
       "    </tr>\n",
       "    <tr>\n",
       "      <th>11</th>\n",
       "      <td>12</td>\n",
       "      <td>2014-04-17 23:48:38</td>\n",
       "      <td>Mathiesen Lærke</td>\n",
       "      <td>LaerkeLMathiesen@cuvox.de</td>\n",
       "      <td>ORG_INVITE</td>\n",
       "      <td>NaT</td>\n",
       "      <td>0</td>\n",
       "      <td>0</td>\n",
       "      <td>130</td>\n",
       "      <td>9270.0</td>\n",
       "      <td>NaN</td>\n",
       "      <td>NaN</td>\n",
       "    </tr>\n",
       "    <tr>\n",
       "      <th>14</th>\n",
       "      <td>15</td>\n",
       "      <td>2013-07-16 21:33:54</td>\n",
       "      <td>Theiss Ralf</td>\n",
       "      <td>RalfTheiss@hotmail.com</td>\n",
       "      <td>PERSONAL_PROJECTS</td>\n",
       "      <td>NaT</td>\n",
       "      <td>0</td>\n",
       "      <td>0</td>\n",
       "      <td>175</td>\n",
       "      <td>NaN</td>\n",
       "      <td>NaN</td>\n",
       "      <td>NaN</td>\n",
       "    </tr>\n",
       "    <tr>\n",
       "      <th>15</th>\n",
       "      <td>16</td>\n",
       "      <td>2013-02-11 10:09:50</td>\n",
       "      <td>Engel René</td>\n",
       "      <td>ReneEngel@hotmail.com</td>\n",
       "      <td>PERSONAL_PROJECTS</td>\n",
       "      <td>NaT</td>\n",
       "      <td>0</td>\n",
       "      <td>0</td>\n",
       "      <td>211</td>\n",
       "      <td>NaN</td>\n",
       "      <td>NaN</td>\n",
       "      <td>NaN</td>\n",
       "    </tr>\n",
       "    <tr>\n",
       "      <th>17</th>\n",
       "      <td>18</td>\n",
       "      <td>2013-08-24 00:26:46</td>\n",
       "      <td>Gregersen Celina</td>\n",
       "      <td>CelinaAGregersen@jourrapide.com</td>\n",
       "      <td>GUEST_INVITE</td>\n",
       "      <td>NaT</td>\n",
       "      <td>0</td>\n",
       "      <td>0</td>\n",
       "      <td>2</td>\n",
       "      <td>3153.0</td>\n",
       "      <td>NaN</td>\n",
       "      <td>NaN</td>\n",
       "    </tr>\n",
       "    <tr>\n",
       "      <th>25</th>\n",
       "      <td>26</td>\n",
       "      <td>2013-07-28 00:53:32</td>\n",
       "      <td>Wexler Florian</td>\n",
       "      <td>FlorianWexler@jourrapide.com</td>\n",
       "      <td>ORG_INVITE</td>\n",
       "      <td>NaT</td>\n",
       "      <td>0</td>\n",
       "      <td>0</td>\n",
       "      <td>56</td>\n",
       "      <td>11857.0</td>\n",
       "      <td>NaN</td>\n",
       "      <td>NaN</td>\n",
       "    </tr>\n",
       "    <tr>\n",
       "      <th>31</th>\n",
       "      <td>32</td>\n",
       "      <td>2013-04-17 16:21:30</td>\n",
       "      <td>Perez Timothy</td>\n",
       "      <td>TimothyJPerez@yahoo.com</td>\n",
       "      <td>PERSONAL_PROJECTS</td>\n",
       "      <td>NaT</td>\n",
       "      <td>1</td>\n",
       "      <td>1</td>\n",
       "      <td>98</td>\n",
       "      <td>NaN</td>\n",
       "      <td>NaN</td>\n",
       "      <td>NaN</td>\n",
       "    </tr>\n",
       "    <tr>\n",
       "      <th>33</th>\n",
       "      <td>34</td>\n",
       "      <td>2014-02-03 20:55:18</td>\n",
       "      <td>Holm Sara</td>\n",
       "      <td>SaraMHolm@hotmail.com</td>\n",
       "      <td>ORG_INVITE</td>\n",
       "      <td>NaT</td>\n",
       "      <td>0</td>\n",
       "      <td>0</td>\n",
       "      <td>33</td>\n",
       "      <td>3721.0</td>\n",
       "      <td>NaN</td>\n",
       "      <td>NaN</td>\n",
       "    </tr>\n",
       "    <tr>\n",
       "      <th>34</th>\n",
       "      <td>35</td>\n",
       "      <td>2013-08-01 10:55:26</td>\n",
       "      <td>Krueger Dieter</td>\n",
       "      <td>DieterKrueger@gustr.com</td>\n",
       "      <td>PERSONAL_PROJECTS</td>\n",
       "      <td>NaT</td>\n",
       "      <td>0</td>\n",
       "      <td>0</td>\n",
       "      <td>59</td>\n",
       "      <td>NaN</td>\n",
       "      <td>NaN</td>\n",
       "      <td>NaN</td>\n",
       "    </tr>\n",
       "  </tbody>\n",
       "</table>\n",
       "</div>"
      ],
      "text/plain": [
       "    object_id       creation_time               name  \\\n",
       "7           8 2013-07-31 05:34:02  Hamilton Danielle   \n",
       "8           9 2013-11-05 04:04:24         Amsel Paul   \n",
       "11         12 2014-04-17 23:48:38    Mathiesen Lærke   \n",
       "14         15 2013-07-16 21:33:54        Theiss Ralf   \n",
       "15         16 2013-02-11 10:09:50         Engel René   \n",
       "17         18 2013-08-24 00:26:46   Gregersen Celina   \n",
       "25         26 2013-07-28 00:53:32     Wexler Florian   \n",
       "31         32 2013-04-17 16:21:30      Perez Timothy   \n",
       "33         34 2014-02-03 20:55:18          Holm Sara   \n",
       "34         35 2013-08-01 10:55:26     Krueger Dieter   \n",
       "\n",
       "                              email    creation_source  \\\n",
       "7        DanielleHamilton@yahoo.com  PERSONAL_PROJECTS   \n",
       "8             PaulAmsel@hotmail.com  PERSONAL_PROJECTS   \n",
       "11        LaerkeLMathiesen@cuvox.de         ORG_INVITE   \n",
       "14           RalfTheiss@hotmail.com  PERSONAL_PROJECTS   \n",
       "15            ReneEngel@hotmail.com  PERSONAL_PROJECTS   \n",
       "17  CelinaAGregersen@jourrapide.com       GUEST_INVITE   \n",
       "25     FlorianWexler@jourrapide.com         ORG_INVITE   \n",
       "31          TimothyJPerez@yahoo.com  PERSONAL_PROJECTS   \n",
       "33            SaraMHolm@hotmail.com         ORG_INVITE   \n",
       "34          DieterKrueger@gustr.com  PERSONAL_PROJECTS   \n",
       "\n",
       "   last_session_creation_time  opted_in_to_mailing_list  \\\n",
       "7                         NaT                         1   \n",
       "8                         NaT                         0   \n",
       "11                        NaT                         0   \n",
       "14                        NaT                         0   \n",
       "15                        NaT                         0   \n",
       "17                        NaT                         0   \n",
       "25                        NaT                         0   \n",
       "31                        NaT                         1   \n",
       "33                        NaT                         0   \n",
       "34                        NaT                         0   \n",
       "\n",
       "    enabled_for_marketing_drip  org_id  invited_by_user_id  daily_visits  \\\n",
       "7                            1      74                 NaN           NaN   \n",
       "8                            0     302                 NaN           NaN   \n",
       "11                           0     130              9270.0           NaN   \n",
       "14                           0     175                 NaN           NaN   \n",
       "15                           0     211                 NaN           NaN   \n",
       "17                           0       2              3153.0           NaN   \n",
       "25                           0      56             11857.0           NaN   \n",
       "31                           1      98                 NaN           NaN   \n",
       "33                           0      33              3721.0           NaN   \n",
       "34                           0      59                 NaN           NaN   \n",
       "\n",
       "    adopted_user  \n",
       "7            NaN  \n",
       "8            NaN  \n",
       "11           NaN  \n",
       "14           NaN  \n",
       "15           NaN  \n",
       "17           NaN  \n",
       "25           NaN  \n",
       "31           NaN  \n",
       "33           NaN  \n",
       "34           NaN  "
      ]
     },
     "execution_count": 27,
     "metadata": {},
     "output_type": "execute_result"
    }
   ],
   "source": [
    "merged_users[merged_users['last_session_creation_time'].isnull()].head(10)\n"
   ]
  },
  {
   "cell_type": "code",
   "execution_count": 28,
   "id": "2de34900",
   "metadata": {},
   "outputs": [
    {
     "data": {
      "text/html": [
       "<div>\n",
       "<style scoped>\n",
       "    .dataframe tbody tr th:only-of-type {\n",
       "        vertical-align: middle;\n",
       "    }\n",
       "\n",
       "    .dataframe tbody tr th {\n",
       "        vertical-align: top;\n",
       "    }\n",
       "\n",
       "    .dataframe thead th {\n",
       "        text-align: right;\n",
       "    }\n",
       "</style>\n",
       "<table border=\"1\" class=\"dataframe\">\n",
       "  <thead>\n",
       "    <tr style=\"text-align: right;\">\n",
       "      <th></th>\n",
       "      <th>object_id</th>\n",
       "      <th>creation_time</th>\n",
       "      <th>name</th>\n",
       "      <th>email</th>\n",
       "      <th>creation_source</th>\n",
       "      <th>last_session_creation_time</th>\n",
       "      <th>opted_in_to_mailing_list</th>\n",
       "      <th>enabled_for_marketing_drip</th>\n",
       "      <th>org_id</th>\n",
       "      <th>invited_by_user_id</th>\n",
       "      <th>daily_visits</th>\n",
       "      <th>adopted_user</th>\n",
       "    </tr>\n",
       "  </thead>\n",
       "  <tbody>\n",
       "    <tr>\n",
       "      <th>6</th>\n",
       "      <td>7</td>\n",
       "      <td>2012-12-16 13:24:32</td>\n",
       "      <td>Sewell Tyler</td>\n",
       "      <td>TylerSewell@jourrapide.com</td>\n",
       "      <td>SIGNUP</td>\n",
       "      <td>2012-12-20 13:24:32</td>\n",
       "      <td>0</td>\n",
       "      <td>1</td>\n",
       "      <td>37</td>\n",
       "      <td>NaN</td>\n",
       "      <td>1.0</td>\n",
       "      <td>0.0</td>\n",
       "    </tr>\n",
       "    <tr>\n",
       "      <th>7</th>\n",
       "      <td>8</td>\n",
       "      <td>2013-07-31 05:34:02</td>\n",
       "      <td>Hamilton Danielle</td>\n",
       "      <td>DanielleHamilton@yahoo.com</td>\n",
       "      <td>PERSONAL_PROJECTS</td>\n",
       "      <td>NaT</td>\n",
       "      <td>1</td>\n",
       "      <td>1</td>\n",
       "      <td>74</td>\n",
       "      <td>NaN</td>\n",
       "      <td>NaN</td>\n",
       "      <td>NaN</td>\n",
       "    </tr>\n",
       "    <tr>\n",
       "      <th>8</th>\n",
       "      <td>9</td>\n",
       "      <td>2013-11-05 04:04:24</td>\n",
       "      <td>Amsel Paul</td>\n",
       "      <td>PaulAmsel@hotmail.com</td>\n",
       "      <td>PERSONAL_PROJECTS</td>\n",
       "      <td>NaT</td>\n",
       "      <td>0</td>\n",
       "      <td>0</td>\n",
       "      <td>302</td>\n",
       "      <td>NaN</td>\n",
       "      <td>NaN</td>\n",
       "      <td>NaN</td>\n",
       "    </tr>\n",
       "    <tr>\n",
       "      <th>10</th>\n",
       "      <td>11</td>\n",
       "      <td>2013-12-26 03:55:54</td>\n",
       "      <td>Paulsen Malthe</td>\n",
       "      <td>MaltheAPaulsen@gustr.com</td>\n",
       "      <td>SIGNUP</td>\n",
       "      <td>2013-12-27 03:55:54</td>\n",
       "      <td>0</td>\n",
       "      <td>0</td>\n",
       "      <td>69</td>\n",
       "      <td>NaN</td>\n",
       "      <td>1.0</td>\n",
       "      <td>0.0</td>\n",
       "    </tr>\n",
       "    <tr>\n",
       "      <th>13</th>\n",
       "      <td>14</td>\n",
       "      <td>2012-10-11 16:14:33</td>\n",
       "      <td>Rivera Bret</td>\n",
       "      <td>BretKRivera@gmail.com</td>\n",
       "      <td>SIGNUP</td>\n",
       "      <td>2012-10-12 16:14:33</td>\n",
       "      <td>0</td>\n",
       "      <td>0</td>\n",
       "      <td>0</td>\n",
       "      <td>NaN</td>\n",
       "      <td>1.0</td>\n",
       "      <td>0.0</td>\n",
       "    </tr>\n",
       "    <tr>\n",
       "      <th>14</th>\n",
       "      <td>15</td>\n",
       "      <td>2013-07-16 21:33:54</td>\n",
       "      <td>Theiss Ralf</td>\n",
       "      <td>RalfTheiss@hotmail.com</td>\n",
       "      <td>PERSONAL_PROJECTS</td>\n",
       "      <td>NaT</td>\n",
       "      <td>0</td>\n",
       "      <td>0</td>\n",
       "      <td>175</td>\n",
       "      <td>NaN</td>\n",
       "      <td>NaN</td>\n",
       "      <td>NaN</td>\n",
       "    </tr>\n",
       "    <tr>\n",
       "      <th>15</th>\n",
       "      <td>16</td>\n",
       "      <td>2013-02-11 10:09:50</td>\n",
       "      <td>Engel René</td>\n",
       "      <td>ReneEngel@hotmail.com</td>\n",
       "      <td>PERSONAL_PROJECTS</td>\n",
       "      <td>NaT</td>\n",
       "      <td>0</td>\n",
       "      <td>0</td>\n",
       "      <td>211</td>\n",
       "      <td>NaN</td>\n",
       "      <td>NaN</td>\n",
       "      <td>NaN</td>\n",
       "    </tr>\n",
       "    <tr>\n",
       "      <th>18</th>\n",
       "      <td>19</td>\n",
       "      <td>2013-05-24 14:56:36</td>\n",
       "      <td>Collins Arlene</td>\n",
       "      <td>ArleneRCollins@gmail.com</td>\n",
       "      <td>SIGNUP</td>\n",
       "      <td>2013-05-30 14:56:36</td>\n",
       "      <td>1</td>\n",
       "      <td>0</td>\n",
       "      <td>0</td>\n",
       "      <td>NaN</td>\n",
       "      <td>2.0</td>\n",
       "      <td>0.0</td>\n",
       "    </tr>\n",
       "    <tr>\n",
       "      <th>19</th>\n",
       "      <td>20</td>\n",
       "      <td>2014-03-06 11:46:38</td>\n",
       "      <td>Helms Mikayla</td>\n",
       "      <td>lqyvjilf@uhzdq.com</td>\n",
       "      <td>SIGNUP</td>\n",
       "      <td>2014-05-29 11:46:38</td>\n",
       "      <td>0</td>\n",
       "      <td>0</td>\n",
       "      <td>58</td>\n",
       "      <td>NaN</td>\n",
       "      <td>7.0</td>\n",
       "      <td>1.0</td>\n",
       "    </tr>\n",
       "    <tr>\n",
       "      <th>20</th>\n",
       "      <td>21</td>\n",
       "      <td>2013-01-22 12:27:42</td>\n",
       "      <td>Hunter Alfie</td>\n",
       "      <td>AlfieHunter@gmail.com</td>\n",
       "      <td>PERSONAL_PROJECTS</td>\n",
       "      <td>2013-01-22 12:27:42</td>\n",
       "      <td>0</td>\n",
       "      <td>0</td>\n",
       "      <td>54</td>\n",
       "      <td>NaN</td>\n",
       "      <td>1.0</td>\n",
       "      <td>0.0</td>\n",
       "    </tr>\n",
       "  </tbody>\n",
       "</table>\n",
       "</div>"
      ],
      "text/plain": [
       "    object_id       creation_time               name  \\\n",
       "6           7 2012-12-16 13:24:32       Sewell Tyler   \n",
       "7           8 2013-07-31 05:34:02  Hamilton Danielle   \n",
       "8           9 2013-11-05 04:04:24         Amsel Paul   \n",
       "10         11 2013-12-26 03:55:54     Paulsen Malthe   \n",
       "13         14 2012-10-11 16:14:33        Rivera Bret   \n",
       "14         15 2013-07-16 21:33:54        Theiss Ralf   \n",
       "15         16 2013-02-11 10:09:50         Engel René   \n",
       "18         19 2013-05-24 14:56:36     Collins Arlene   \n",
       "19         20 2014-03-06 11:46:38      Helms Mikayla   \n",
       "20         21 2013-01-22 12:27:42       Hunter Alfie   \n",
       "\n",
       "                         email    creation_source last_session_creation_time  \\\n",
       "6   TylerSewell@jourrapide.com             SIGNUP        2012-12-20 13:24:32   \n",
       "7   DanielleHamilton@yahoo.com  PERSONAL_PROJECTS                        NaT   \n",
       "8        PaulAmsel@hotmail.com  PERSONAL_PROJECTS                        NaT   \n",
       "10    MaltheAPaulsen@gustr.com             SIGNUP        2013-12-27 03:55:54   \n",
       "13       BretKRivera@gmail.com             SIGNUP        2012-10-12 16:14:33   \n",
       "14      RalfTheiss@hotmail.com  PERSONAL_PROJECTS                        NaT   \n",
       "15       ReneEngel@hotmail.com  PERSONAL_PROJECTS                        NaT   \n",
       "18    ArleneRCollins@gmail.com             SIGNUP        2013-05-30 14:56:36   \n",
       "19          lqyvjilf@uhzdq.com             SIGNUP        2014-05-29 11:46:38   \n",
       "20       AlfieHunter@gmail.com  PERSONAL_PROJECTS        2013-01-22 12:27:42   \n",
       "\n",
       "    opted_in_to_mailing_list  enabled_for_marketing_drip  org_id  \\\n",
       "6                          0                           1      37   \n",
       "7                          1                           1      74   \n",
       "8                          0                           0     302   \n",
       "10                         0                           0      69   \n",
       "13                         0                           0       0   \n",
       "14                         0                           0     175   \n",
       "15                         0                           0     211   \n",
       "18                         1                           0       0   \n",
       "19                         0                           0      58   \n",
       "20                         0                           0      54   \n",
       "\n",
       "    invited_by_user_id  daily_visits  adopted_user  \n",
       "6                  NaN           1.0           0.0  \n",
       "7                  NaN           NaN           NaN  \n",
       "8                  NaN           NaN           NaN  \n",
       "10                 NaN           1.0           0.0  \n",
       "13                 NaN           1.0           0.0  \n",
       "14                 NaN           NaN           NaN  \n",
       "15                 NaN           NaN           NaN  \n",
       "18                 NaN           2.0           0.0  \n",
       "19                 NaN           7.0           1.0  \n",
       "20                 NaN           1.0           0.0  "
      ]
     },
     "execution_count": 28,
     "metadata": {},
     "output_type": "execute_result"
    }
   ],
   "source": [
    "merged_users[merged_users['invited_by_user_id'].isnull()].head(10)"
   ]
  },
  {
   "cell_type": "code",
   "execution_count": 29,
   "id": "ab2a29f0",
   "metadata": {},
   "outputs": [
    {
     "data": {
      "text/plain": [
       "count     6417.000000\n",
       "mean      5962.957145\n",
       "std       3383.761968\n",
       "min          3.000000\n",
       "25%       3058.000000\n",
       "50%       5954.000000\n",
       "75%       8817.000000\n",
       "max      11999.000000\n",
       "Name: invited_by_user_id, dtype: float64"
      ]
     },
     "execution_count": 29,
     "metadata": {},
     "output_type": "execute_result"
    }
   ],
   "source": [
    "merged_users['invited_by_user_id'].describe()"
   ]
  },
  {
   "cell_type": "markdown",
   "id": "11ed3f6f",
   "metadata": {},
   "source": [
    "It appears that last_session_creation_time indicates when the user last logged in. However, if the user has never logged in, then this variable would be null. This makes sense as there is an equal number null values in this variable to the nulls from the merge (nulls in both cases indicate no previous logins). As a result, I will fill this column with their creation times."
   ]
  },
  {
   "cell_type": "markdown",
   "id": "65bc3570",
   "metadata": {},
   "source": [
    "For the null values in invited_by_user_id, they likely represent joining with no external invitations. For this column, I will fill the null values with 0's\n",
    "\n"
   ]
  },
  {
   "cell_type": "code",
   "execution_count": 30,
   "id": "d4b522a2",
   "metadata": {},
   "outputs": [],
   "source": [
    "merged_users['last_session_creation_time'].fillna(merged_users['creation_time'], inplace=True)\n",
    "\n",
    "merged_users['invited_by_user_id'].fillna(0, inplace=True)"
   ]
  },
  {
   "cell_type": "code",
   "execution_count": 31,
   "id": "061fdd91",
   "metadata": {},
   "outputs": [],
   "source": [
    "merged_users['daily_visits'].fillna(0, inplace=True)\n",
    "\n",
    "merged_users['adopted_user'].fillna(0, inplace=True)"
   ]
  },
  {
   "cell_type": "code",
   "execution_count": 32,
   "id": "134a33bb",
   "metadata": {},
   "outputs": [
    {
     "name": "stdout",
     "output_type": "stream",
     "text": [
      "<class 'pandas.core.frame.DataFrame'>\n",
      "Int64Index: 12000 entries, 0 to 11999\n",
      "Data columns (total 12 columns):\n",
      " #   Column                      Non-Null Count  Dtype         \n",
      "---  ------                      --------------  -----         \n",
      " 0   object_id                   12000 non-null  int64         \n",
      " 1   creation_time               12000 non-null  datetime64[ns]\n",
      " 2   name                        12000 non-null  object        \n",
      " 3   email                       12000 non-null  object        \n",
      " 4   creation_source             12000 non-null  object        \n",
      " 5   last_session_creation_time  12000 non-null  datetime64[ns]\n",
      " 6   opted_in_to_mailing_list    12000 non-null  int64         \n",
      " 7   enabled_for_marketing_drip  12000 non-null  int64         \n",
      " 8   org_id                      12000 non-null  int64         \n",
      " 9   invited_by_user_id          12000 non-null  float64       \n",
      " 10  daily_visits                12000 non-null  float64       \n",
      " 11  adopted_user                12000 non-null  float64       \n",
      "dtypes: datetime64[ns](2), float64(3), int64(4), object(3)\n",
      "memory usage: 1.2+ MB\n"
     ]
    }
   ],
   "source": [
    "merged_users.info()"
   ]
  },
  {
   "cell_type": "markdown",
   "id": "589b935a",
   "metadata": {},
   "source": [
    "There are some mixed dtypes in the data so I'll address that before doing some EDA.\n",
    "\n",
    "Namely invited_by_user_id and adopted_user should be int64. The only numerical column in this data set is the daily_visits."
   ]
  },
  {
   "cell_type": "code",
   "execution_count": 33,
   "id": "8bd30397",
   "metadata": {},
   "outputs": [],
   "source": [
    "merged_users['invited_by_user_id'] = merged_users['invited_by_user_id'].astype('int')\n",
    "\n",
    "merged_users['adopted_user'] = merged_users['adopted_user'].astype('int')"
   ]
  },
  {
   "cell_type": "code",
   "execution_count": 34,
   "id": "55dd6983",
   "metadata": {},
   "outputs": [],
   "source": [
    "BINARY = ['opted_in_to_mailing_list', 'enabled_for_marketing_drip']"
   ]
  },
  {
   "cell_type": "code",
   "execution_count": 35,
   "id": "7ede173e",
   "metadata": {},
   "outputs": [],
   "source": [
    "NUMERICAL = 'daily_visits'\n"
   ]
  },
  {
   "cell_type": "code",
   "execution_count": 36,
   "id": "25066dd9",
   "metadata": {},
   "outputs": [],
   "source": [
    "target = merged_users[merged_users['adopted_user'] == 1]\n",
    "non_target = merged_users[merged_users['adopted_user'] == 0]"
   ]
  },
  {
   "cell_type": "code",
   "execution_count": 37,
   "id": "e8caf1d5",
   "metadata": {},
   "outputs": [
    {
     "data": {
      "text/plain": [
       "(array([1.1166e+04, 2.6100e+02, 1.6300e+02, 1.1200e+02, 9.2000e+01,\n",
       "        8.0000e+01, 5.3000e+01, 4.2000e+01, 2.2000e+01, 9.0000e+00]),\n",
       " array([  0. ,  60.6, 121.2, 181.8, 242.4, 303. , 363.6, 424.2, 484.8,\n",
       "        545.4, 606. ]),\n",
       " <BarContainer object of 10 artists>)"
      ]
     },
     "execution_count": 37,
     "metadata": {},
     "output_type": "execute_result"
    },
    {
     "data": {
      "image/png": "[encoded data removed]",
      "text/plain": [
       "<Figure size 432x288 with 1 Axes>"
      ]
     },
     "metadata": {
      "needs_background": "light"
     },
     "output_type": "display_data"
    }
   ],
   "source": [
    "plt.hist(merged_users[NUMERICAL])"
   ]
  },
  {
   "cell_type": "code",
   "execution_count": 38,
   "id": "f8c77319",
   "metadata": {},
   "outputs": [
    {
     "name": "stdout",
     "output_type": "stream",
     "text": [
      "1445 10555\n"
     ]
    }
   ],
   "source": [
    "print (len(target), len(non_target))\n"
   ]
  },
  {
   "cell_type": "markdown",
   "id": "4f425047",
   "metadata": {},
   "source": [
    "The data in daily_visits has a very strong right skew. I won't address this now, but I willscale it down with StandardScaler later.\n",
    "\n",
    "Additionally, this dataset is a very unbalanced dataset (12% target, 88% non-target)."
   ]
  },
  {
   "cell_type": "code",
   "execution_count": null,
   "id": "7161d7b7",
   "metadata": {},
   "outputs": [],
   "source": []
  },
  {
   "cell_type": "markdown",
   "id": "8697c0ef",
   "metadata": {},
   "source": [
    "There doesn't appear to be any real difference between the two groupings (besides daily_visits, but that's is mandatory). As a result, I'll focus on generating some more features using daily visits"
   ]
  },
  {
   "cell_type": "code",
   "execution_count": 40,
   "id": "bed60e0e",
   "metadata": {},
   "outputs": [
    {
     "data": {
      "text/html": [
       "<div>\n",
       "<style scoped>\n",
       "    .dataframe tbody tr th:only-of-type {\n",
       "        vertical-align: middle;\n",
       "    }\n",
       "\n",
       "    .dataframe tbody tr th {\n",
       "        vertical-align: top;\n",
       "    }\n",
       "\n",
       "    .dataframe thead th {\n",
       "        text-align: right;\n",
       "    }\n",
       "</style>\n",
       "<table border=\"1\" class=\"dataframe\">\n",
       "  <thead>\n",
       "    <tr style=\"text-align: right;\">\n",
       "      <th></th>\n",
       "      <th>object_id</th>\n",
       "      <th>creation_time</th>\n",
       "      <th>name</th>\n",
       "      <th>email</th>\n",
       "      <th>creation_source</th>\n",
       "      <th>last_session_creation_time</th>\n",
       "      <th>opted_in_to_mailing_list</th>\n",
       "      <th>enabled_for_marketing_drip</th>\n",
       "      <th>org_id</th>\n",
       "      <th>invited_by_user_id</th>\n",
       "      <th>daily_visits</th>\n",
       "      <th>adopted_user</th>\n",
       "    </tr>\n",
       "  </thead>\n",
       "  <tbody>\n",
       "    <tr>\n",
       "      <th>0</th>\n",
       "      <td>1</td>\n",
       "      <td>2014-04-22 03:53:30</td>\n",
       "      <td>Clausen August</td>\n",
       "      <td>AugustCClausen@yahoo.com</td>\n",
       "      <td>GUEST_INVITE</td>\n",
       "      <td>2014-04-22 03:53:30</td>\n",
       "      <td>1</td>\n",
       "      <td>0</td>\n",
       "      <td>11</td>\n",
       "      <td>10803</td>\n",
       "      <td>1.0</td>\n",
       "      <td>0</td>\n",
       "    </tr>\n",
       "    <tr>\n",
       "      <th>1</th>\n",
       "      <td>2</td>\n",
       "      <td>2013-11-15 03:45:04</td>\n",
       "      <td>Poole Matthew</td>\n",
       "      <td>MatthewPoole@gustr.com</td>\n",
       "      <td>ORG_INVITE</td>\n",
       "      <td>2014-03-31 03:45:04</td>\n",
       "      <td>0</td>\n",
       "      <td>0</td>\n",
       "      <td>1</td>\n",
       "      <td>316</td>\n",
       "      <td>14.0</td>\n",
       "      <td>1</td>\n",
       "    </tr>\n",
       "    <tr>\n",
       "      <th>2</th>\n",
       "      <td>3</td>\n",
       "      <td>2013-03-19 23:14:52</td>\n",
       "      <td>Bottrill Mitchell</td>\n",
       "      <td>MitchellBottrill@gustr.com</td>\n",
       "      <td>ORG_INVITE</td>\n",
       "      <td>2013-03-19 23:14:52</td>\n",
       "      <td>0</td>\n",
       "      <td>0</td>\n",
       "      <td>94</td>\n",
       "      <td>1525</td>\n",
       "      <td>1.0</td>\n",
       "      <td>0</td>\n",
       "    </tr>\n",
       "    <tr>\n",
       "      <th>3</th>\n",
       "      <td>4</td>\n",
       "      <td>2013-05-21 08:09:28</td>\n",
       "      <td>Clausen Nicklas</td>\n",
       "      <td>NicklasSClausen@yahoo.com</td>\n",
       "      <td>GUEST_INVITE</td>\n",
       "      <td>2013-05-22 08:09:28</td>\n",
       "      <td>0</td>\n",
       "      <td>0</td>\n",
       "      <td>1</td>\n",
       "      <td>5151</td>\n",
       "      <td>1.0</td>\n",
       "      <td>0</td>\n",
       "    </tr>\n",
       "    <tr>\n",
       "      <th>4</th>\n",
       "      <td>5</td>\n",
       "      <td>2013-01-17 10:14:20</td>\n",
       "      <td>Raw Grace</td>\n",
       "      <td>GraceRaw@yahoo.com</td>\n",
       "      <td>GUEST_INVITE</td>\n",
       "      <td>2013-01-22 10:14:20</td>\n",
       "      <td>0</td>\n",
       "      <td>0</td>\n",
       "      <td>193</td>\n",
       "      <td>5240</td>\n",
       "      <td>1.0</td>\n",
       "      <td>0</td>\n",
       "    </tr>\n",
       "  </tbody>\n",
       "</table>\n",
       "</div>"
      ],
      "text/plain": [
       "   object_id       creation_time               name  \\\n",
       "0          1 2014-04-22 03:53:30     Clausen August   \n",
       "1          2 2013-11-15 03:45:04      Poole Matthew   \n",
       "2          3 2013-03-19 23:14:52  Bottrill Mitchell   \n",
       "3          4 2013-05-21 08:09:28    Clausen Nicklas   \n",
       "4          5 2013-01-17 10:14:20          Raw Grace   \n",
       "\n",
       "                        email creation_source last_session_creation_time  \\\n",
       "0    AugustCClausen@yahoo.com    GUEST_INVITE        2014-04-22 03:53:30   \n",
       "1      MatthewPoole@gustr.com      ORG_INVITE        2014-03-31 03:45:04   \n",
       "2  MitchellBottrill@gustr.com      ORG_INVITE        2013-03-19 23:14:52   \n",
       "3   NicklasSClausen@yahoo.com    GUEST_INVITE        2013-05-22 08:09:28   \n",
       "4          GraceRaw@yahoo.com    GUEST_INVITE        2013-01-22 10:14:20   \n",
       "\n",
       "   opted_in_to_mailing_list  enabled_for_marketing_drip  org_id  \\\n",
       "0                         1                           0      11   \n",
       "1                         0                           0       1   \n",
       "2                         0                           0      94   \n",
       "3                         0                           0       1   \n",
       "4                         0                           0     193   \n",
       "\n",
       "   invited_by_user_id  daily_visits  adopted_user  \n",
       "0               10803           1.0             0  \n",
       "1                 316          14.0             1  \n",
       "2                1525           1.0             0  \n",
       "3                5151           1.0             0  \n",
       "4                5240           1.0             0  "
      ]
     },
     "execution_count": 40,
     "metadata": {},
     "output_type": "execute_result"
    }
   ],
   "source": [
    "merged_users.head()"
   ]
  },
  {
   "cell_type": "code",
   "execution_count": 41,
   "id": "b2e227ea",
   "metadata": {},
   "outputs": [],
   "source": [
    "merged_users['creation_to_active'] = (merged_users['last_session_creation_time'] - merged_users['creation_time']).dt.days + 1\n"
   ]
  },
  {
   "cell_type": "code",
   "execution_count": 42,
   "id": "984e0338",
   "metadata": {},
   "outputs": [],
   "source": [
    "merged_users['login_perc'] = merged_users['daily_visits'] / merged_users['creation_to_active']\n"
   ]
  },
  {
   "cell_type": "code",
   "execution_count": 43,
   "id": "803f262f",
   "metadata": {},
   "outputs": [],
   "source": [
    "merged_users['email_domain'] = merged_users['email'].apply(lambda x: x.split('@')[-1])\n"
   ]
  },
  {
   "cell_type": "code",
   "execution_count": 44,
   "id": "56d32815",
   "metadata": {},
   "outputs": [
    {
     "data": {
      "text/plain": [
       "(6204, 15)"
      ]
     },
     "execution_count": 44,
     "metadata": {},
     "output_type": "execute_result"
    }
   ],
   "source": [
    "merged_users[merged_users['creation_to_active'] == 1].shape\n"
   ]
  },
  {
   "cell_type": "code",
   "execution_count": 45,
   "id": "f9f9358c",
   "metadata": {},
   "outputs": [
    {
     "data": {
      "text/plain": [
       "1184"
      ]
     },
     "execution_count": 45,
     "metadata": {},
     "output_type": "execute_result"
    }
   ],
   "source": [
    "merged_users['email_domain'].nunique()\n"
   ]
  },
  {
   "cell_type": "markdown",
   "id": "6bc2f5e3",
   "metadata": {},
   "source": [
    "From here, let's drop a couple of the columns since they're redundant or provide no additional information.\n",
    "\n",
    "Name: unnecessary as object_id is a unique identifier email: same reason as name, but I extracted the domain of the email creation_time and last_session_creation_time: doesn't show up in the model. I can't use them too well because I don't know the date the information started and finished being gathered."
   ]
  },
  {
   "cell_type": "code",
   "execution_count": 46,
   "id": "f4174abf",
   "metadata": {},
   "outputs": [],
   "source": [
    "merged_users.drop(['creation_time', 'name', 'email', 'last_session_creation_time'], axis=1, inplace=True)\n"
   ]
  },
  {
   "cell_type": "code",
   "execution_count": 47,
   "id": "26bea00e",
   "metadata": {},
   "outputs": [],
   "source": [
    "target = merged_users[merged_users['adopted_user'] == 1]\n",
    "non_target = merged_users[merged_users['adopted_user'] == 0]"
   ]
  },
  {
   "cell_type": "code",
   "execution_count": 48,
   "id": "c3606ff1",
   "metadata": {},
   "outputs": [
    {
     "name": "stderr",
     "output_type": "stream",
     "text": [
      "C:\\Users\\ptlon\\Anaconda3\\lib\\site-packages\\seaborn\\distributions.py:2619: FutureWarning: `distplot` is a deprecated function and will be removed in a future version. Please adapt your code to use either `displot` (a figure-level function with similar flexibility) or `histplot` (an axes-level function for histograms).\n",
      "  warnings.warn(msg, FutureWarning)\n"
     ]
    },
    {
     "data": {
      "image/png": "[encoded data removed]",
      "text/plain": [
       "<Figure size 1152x360 with 4 Axes>"
      ]
     },
     "metadata": {
      "needs_background": "light"
     },
     "output_type": "display_data"
    }
   ],
   "source": [
    "NEW_FEATURES = ['creation_to_active', 'login_perc']\n",
    "\n",
    "fig, ax = plt.subplots(ncols=2, nrows=2, figsize=(16,5))\n",
    "\n",
    "for i in range(2):\n",
    "    sns.distplot(target[NEW_FEATURES[i]], ax=ax[i][0], color='r', label='Adopted User', kde=False).legend()\n",
    "    sns.distplot(non_target[NEW_FEATURES[i]], ax=ax[i][1], label='Non-Adopted User', kde=False).legend()\n",
    "    \n",
    "plt.tight_layout()"
   ]
  },
  {
   "cell_type": "markdown",
   "id": "7371f9c4",
   "metadata": {},
   "source": [
    "Let's move onto feature importance with random forest. First I need to perform preprocessing steps. I will do these manually with pd.get_dummies and StandardScaler\n",
    "\n"
   ]
  },
  {
   "cell_type": "code",
   "execution_count": 49,
   "id": "cde4bc77",
   "metadata": {},
   "outputs": [
    {
     "name": "stdout",
     "output_type": "stream",
     "text": [
      "<class 'pandas.core.frame.DataFrame'>\n",
      "Int64Index: 12000 entries, 0 to 11999\n",
      "Data columns (total 11 columns):\n",
      " #   Column                      Non-Null Count  Dtype  \n",
      "---  ------                      --------------  -----  \n",
      " 0   object_id                   12000 non-null  int64  \n",
      " 1   creation_source             12000 non-null  object \n",
      " 2   opted_in_to_mailing_list    12000 non-null  int64  \n",
      " 3   enabled_for_marketing_drip  12000 non-null  int64  \n",
      " 4   org_id                      12000 non-null  int64  \n",
      " 5   invited_by_user_id          12000 non-null  int32  \n",
      " 6   daily_visits                12000 non-null  float64\n",
      " 7   adopted_user                12000 non-null  int32  \n",
      " 8   creation_to_active          12000 non-null  int64  \n",
      " 9   login_perc                  12000 non-null  float64\n",
      " 10  email_domain                12000 non-null  object \n",
      "dtypes: float64(2), int32(2), int64(5), object(2)\n",
      "memory usage: 1.0+ MB\n"
     ]
    }
   ],
   "source": [
    "merged_users.info()"
   ]
  },
  {
   "cell_type": "code",
   "execution_count": 50,
   "id": "62c46f86",
   "metadata": {},
   "outputs": [],
   "source": [
    "# Split the data into X(variables) and y(target)\n",
    "X = merged_users.drop(['object_id', 'adopted_user'], axis=1)\n",
    "y = merged_users['adopted_user']"
   ]
  },
  {
   "cell_type": "code",
   "execution_count": 51,
   "id": "77647622",
   "metadata": {},
   "outputs": [],
   "source": [
    "# Define the numerical columns\n",
    "NUMERICAL = ['daily_visits', 'creation_to_active', 'login_perc']\n",
    "\n",
    "# Define the categorical columns\n",
    "CATEGORICAL = [col for col in merged_users.columns if col not in NUMERICAL]\n",
    "\n",
    "# Remove object_id and adopted_user column from the categorical list\n",
    "CATEGORICAL.remove('object_id')\n",
    "CATEGORICAL.remove('adopted_user')"
   ]
  },
  {
   "cell_type": "code",
   "execution_count": 52,
   "id": "30bc3fd3",
   "metadata": {},
   "outputs": [],
   "source": [
    "# Transform the numerical columns with the StandardScaler\n",
    "numerical_data = StandardScaler().fit_transform(X[NUMERICAL])\n",
    "\n",
    "# Create the numerical dataframe\n",
    "numerical_df = pd.DataFrame(numerical_data, columns=NUMERICAL)\n",
    "\n",
    "# Copy the categorical columns to another dataframe\n",
    "categorical_df = X[CATEGORICAL].copy()\n",
    "\n",
    "# Transform the categorical columns in pd.get_dummies\n",
    "for col in CATEGORICAL:\n",
    "    categorical_dummies = pd.get_dummies(categorical_df[col]).rename(columns=lambda x: col+str(x))\n",
    "    categorical_df = categorical_df.join(categorical_dummies)\n",
    "    del categorical_df[col]"
   ]
  },
  {
   "cell_type": "code",
   "execution_count": 53,
   "id": "a33f7c62",
   "metadata": {},
   "outputs": [
    {
     "name": "stdout",
     "output_type": "stream",
     "text": [
      "<class 'pandas.core.frame.DataFrame'>\n",
      "RangeIndex: 12000 entries, 0 to 11999\n",
      "Data columns (total 3 columns):\n",
      " #   Column              Non-Null Count  Dtype  \n",
      "---  ------              --------------  -----  \n",
      " 0   daily_visits        12000 non-null  float64\n",
      " 1   creation_to_active  12000 non-null  float64\n",
      " 2   login_perc          12000 non-null  float64\n",
      "dtypes: float64(3)\n",
      "memory usage: 281.4 KB\n"
     ]
    }
   ],
   "source": [
    "numerical_df.info()"
   ]
  },
  {
   "cell_type": "code",
   "execution_count": 54,
   "id": "4325d178",
   "metadata": {},
   "outputs": [
    {
     "name": "stdout",
     "output_type": "stream",
     "text": [
      "<class 'pandas.core.frame.DataFrame'>\n",
      "Int64Index: 12000 entries, 0 to 11999\n",
      "Columns: 4175 entries, creation_sourceGUEST_INVITE to email_domainzwmry.com\n",
      "dtypes: uint8(4175)\n",
      "memory usage: 48.1 MB\n"
     ]
    }
   ],
   "source": [
    "categorical_df.info()"
   ]
  },
  {
   "cell_type": "code",
   "execution_count": 55,
   "id": "9b7f95fe",
   "metadata": {},
   "outputs": [],
   "source": [
    "merged_df = pd.concat([numerical_df, categorical_df], axis=1)"
   ]
  },
  {
   "cell_type": "code",
   "execution_count": 56,
   "id": "dc35724a",
   "metadata": {},
   "outputs": [],
   "source": [
    "rf = RandomForestClassifier().fit(merged_df, y)\n"
   ]
  },
  {
   "cell_type": "code",
   "execution_count": 57,
   "id": "d907bc00",
   "metadata": {},
   "outputs": [],
   "source": [
    "importances = rf.feature_importances_\n",
    "features = pd.DataFrame({'feature': merged_df.columns, 'importance': importances})\n",
    "features.sort_values(by='importance', ascending=False, inplace=True)"
   ]
  },
  {
   "cell_type": "code",
   "execution_count": 58,
   "id": "c2a49a9a",
   "metadata": {},
   "outputs": [
    {
     "data": {
      "text/plain": [
       "<AxesSubplot:xlabel='importance', ylabel='feature'>"
      ]
     },
     "execution_count": 58,
     "metadata": {},
     "output_type": "execute_result"
    },
    {
     "data": {
      "image/png": "[encoded data removed]",
      "text/plain": [
       "<Figure size 720x144 with 1 Axes>"
      ]
     },
     "metadata": {
      "needs_background": "light"
     },
     "output_type": "display_data"
    }
   ],
   "source": [
    "plt.figure(figsize=(10,2))\n",
    "sns.barplot(x=features['importance'][:5], y=features['feature'][:5], color='blue', orient='h')"
   ]
  },
  {
   "cell_type": "code",
   "execution_count": 59,
   "id": "fe9cf074",
   "metadata": {},
   "outputs": [],
   "source": [
    "# Split the data into training and test sets\n",
    "X_train, X_test, y_train, y_test = train_test_split(merged_df, y, test_size=0.2)"
   ]
  },
  {
   "cell_type": "code",
   "execution_count": 60,
   "id": "ddd98b40",
   "metadata": {},
   "outputs": [
    {
     "data": {
      "text/plain": [
       "RandomForestClassifier()"
      ]
     },
     "execution_count": 60,
     "metadata": {},
     "output_type": "execute_result"
    }
   ],
   "source": [
    "# Create the Pipeline with LogisticRegression\n",
    "rf = RandomForestClassifier(n_estimators=100)\n",
    "\n",
    "# Fit the Pipeline with the training data\n",
    "rf.fit(X_train, y_train)"
   ]
  },
  {
   "cell_type": "code",
   "execution_count": 61,
   "id": "44edd1ab",
   "metadata": {},
   "outputs": [
    {
     "name": "stdout",
     "output_type": "stream",
     "text": [
      "0.99718009478673\n"
     ]
    }
   ],
   "source": [
    "# Assign the predictions to variables\n",
    "predicted_train_values = rf.predict_proba(X_train)[:, -1]\n",
    "predicted_test_values = rf.predict_proba(X_test)[:, -1]\n",
    "\n",
    "# Print the scores\n",
    "print (roc_auc_score(y_test, predicted_test_values))"
   ]
  },
  {
   "cell_type": "code",
   "execution_count": 62,
   "id": "f50e90ff",
   "metadata": {},
   "outputs": [
    {
     "data": {
      "text/plain": [
       "<AxesSubplot:title={'center':'Testing Data'}, xlabel='adopted_user', ylabel='Density'>"
      ]
     },
     "execution_count": 62,
     "metadata": {},
     "output_type": "execute_result"
    },
    {
     "data": {
      "image/png": "[encoded data removed]",
      "text/plain": [
       "<Figure size 864x432 with 2 Axes>"
      ]
     },
     "metadata": {
      "needs_background": "light"
     },
     "output_type": "display_data"
    }
   ],
   "source": [
    "fig, ax = plt.subplots(ncols=2, figsize=(12,6))\n",
    "sns.kdeplot(y_train, ax=ax[0], label='Original').set_title('Training Data')\n",
    "sns.kdeplot(predicted_train_values, ax=ax[0], label='Predicted')\n",
    "sns.kdeplot(y_test, ax=ax[1], label='Original').set_title('Testing Data')\n",
    "sns.kdeplot(predicted_test_values, ax=ax[1], label='Predicted')"
   ]
  },
  {
   "cell_type": "code",
   "execution_count": null,
   "id": "60eb50ac",
   "metadata": {},
   "outputs": [],
   "source": []
  }
 ],
 "metadata": {
  "kernelspec": {
   "display_name": "Python 3 (ipykernel)",
   "language": "python",
   "name": "python3"
  },
  "language_info": {
   "codemirror_mode": {
    "name": "ipython",
    "version": 3
   },
   "file_extension": ".py",
   "mimetype": "text/x-python",
   "name": "python",
   "nbconvert_exporter": "python",
   "pygments_lexer": "ipython3",
   "version": "3.9.7"
  }
 },
 "nbformat": 4,
 "nbformat_minor": 5
}
